{
 "cells": [
  {
   "cell_type": "markdown",
   "id": "679b2503",
   "metadata": {},
   "source": [
    "### Установим нужные библиотеки"
   ]
  },
  {
   "cell_type": "code",
   "execution_count": null,
   "id": "20c3fb56",
   "metadata": {
    "scrolled": true
   },
   "outputs": [],
   "source": [
    "%pip install pandas \n",
    "%pip install open3d \n",
    "%pip install \"laspy[lazrs,laszip]\"\n",
    "%pip install \"kiss-icp[all]\""
   ]
  },
  {
   "cell_type": "code",
   "execution_count": 1,
   "id": "db4582fa",
   "metadata": {},
   "outputs": [
    {
     "name": "stdout",
     "output_type": "stream",
     "text": [
      "Jupyter environment detected. Enabling Open3D WebVisualizer.\n",
      "[Open3D INFO] WebRTC GUI backend enabled.\n",
      "[Open3D INFO] WebRTCWindowSystem: HTTP handshake server disabled.\n"
     ]
    }
   ],
   "source": [
    "import os\n",
    "import time\n",
    "import laspy\n",
    "import numpy as np\n",
    "import pandas as pd\n",
    "import open3d as o3d"
   ]
  },
  {
   "cell_type": "markdown",
   "id": "37e8f716",
   "metadata": {},
   "source": [
    "### Попробуем отрисовать 3D сцену"
   ]
  },
  {
   "cell_type": "code",
   "execution_count": 2,
   "id": "8513e0d3",
   "metadata": {},
   "outputs": [],
   "source": [
    "pc_path = '/testdata/macchiato_datasets/tst-mac-10-2023-2/new.002/new.002.018.robosenseCapture'\n",
    "pc_fn = 'new.002.018.robosenseCapture.000000.laz'\n",
    "pc1 = laspy.read(os.path.join(pc_path, pc_fn))"
   ]
  },
  {
   "cell_type": "code",
   "execution_count": null,
   "id": "0193ddcb",
   "metadata": {},
   "outputs": [],
   "source": [
    "xyz = np.vstack((pc1.x, pc1.y, pc1.z)).transpose()\n",
    "xyz.shape # 57600 точек"
   ]
  },
  {
   "cell_type": "code",
   "execution_count": null,
   "metadata": {},
   "outputs": [],
   "source": [
    "intensity = pc1.intensity / 255\n",
    "rgb = np.vstack((intensity, 1 - intensity, 0 * intensity)).transpose()\n",
    "rgb.shape"
   ]
  },
  {
   "cell_type": "code",
   "execution_count": null,
   "id": "17c3a633",
   "metadata": {},
   "outputs": [],
   "source": [
    "pcd = o3d.geometry.PointCloud()\n",
    "pcd.points = o3d.utility.Vector3dVector(xyz)\n",
    "pcd.colors = o3d.utility.Vector3dVector(rgb)\n",
    "print('pcd:', pcd)"
   ]
  },
  {
   "cell_type": "code",
   "execution_count": null,
   "id": "73742fdd",
   "metadata": {},
   "outputs": [],
   "source": [
    "o3d.visualization.draw_geometries([pcd])"
   ]
  },
  {
   "cell_type": "markdown",
   "id": "0a8e6d62-9001-4a7d-8fae-a28736fa58f7",
   "metadata": {},
   "source": [
    "#### Работа с множеством сцен и визуализация"
   ]
  },
  {
   "cell_type": "code",
   "execution_count": 5,
   "id": "9671c1c6",
   "metadata": {},
   "outputs": [
    {
     "name": "stderr",
     "output_type": "stream",
     "text": [
      "100%|██████████| 99/99 [00:14<00:00,  6.86it/s]\n"
     ]
    }
   ],
   "source": [
    "from tqdm import tqdm\n",
    "\n",
    "# Загрузим все измерения из папки data\n",
    "points = []\n",
    "\n",
    "# pc_path = '/home/nikita/testdata/upload/xtrail_20230914/20230914/new.152524.002/robosenseCapture'\n",
    "pc_path_out = './data'\n",
    "files_list = os.listdir(pc_path)\n",
    "files_list.sort()\n",
    "\n",
    "for file in tqdm(files_list):\n",
    "    pc = laspy.read(os.path.join(pc_path, file))\n",
    "    xyz = np.vstack((pc.x, pc.y, pc.z)).transpose()\n",
    "    points.append(xyz)\n",
    "    np.savetxt(os.path.join(pc_path_out, file[:-4] + '.xyz'), xyz)\n",
    "\n",
    "points = np.array(points)"
   ]
  },
  {
   "cell_type": "markdown",
   "id": "1035dfaa-fd11-4b6e-8580-083aac89420a",
   "metadata": {},
   "source": [
    "#### Модуль kiss-icp очень капризный к формату данных сконвертируем все в сырой .xyz"
   ]
  },
  {
   "cell_type": "code",
   "execution_count": 6,
   "id": "ef95cb44-42b6-4bbb-97f1-90ac21928b9a",
   "metadata": {},
   "outputs": [
    {
     "name": "stdout",
     "output_type": "stream",
     "text": [
      "Trying to guess how to read your data: `pip install \"kiss-icp[all]\"` is required\n",
      "100%|██████████████████████████████████████| 99/99 [00:09<00:00, 10.54 frames/s]\n",
      "[WARNING] No GT poses available, skipping evaluation\n"
     ]
    }
   ],
   "source": [
    "# Рассчет матриц перехода для свех наших измерений\n",
    "!kiss_icp_pipeline ./data "
   ]
  },
  {
   "cell_type": "code",
   "execution_count": 7,
   "id": "36fbed9b-782b-4399-a1c9-0b31cb806448",
   "metadata": {
    "scrolled": true
   },
   "outputs": [],
   "source": [
    "poses = np.load('./results/latest/data_poses.npy') # Матрицы перехода для однородных координат"
   ]
  },
  {
   "cell_type": "code",
   "execution_count": 8,
   "id": "cb370ac2-46b0-4008-a71a-225f51620e06",
   "metadata": {},
   "outputs": [
    {
     "data": {
      "text/plain": [
       "(5702400, 3)"
      ]
     },
     "execution_count": 8,
     "metadata": {},
     "output_type": "execute_result"
    }
   ],
   "source": [
    "transformed_points = np.zeros((0, 3))\n",
    "col_len = np.ones(points[0].shape[0])\n",
    "for i in range(len(points)):\n",
    "    hom_points = np.c_[points[i], col_len]\n",
    "    hom_points = np.dot(poses[i], hom_points.transpose()).transpose()\n",
    "    het_points = hom_points[:, :-1] * np.column_stack((hom_points[:, -1], hom_points[:, -1], hom_points[:, -1]))\n",
    "    transformed_points = np.append(transformed_points, het_points, axis=0)\n",
    "\n",
    "transformed_points.shape"
   ]
  },
  {
   "cell_type": "code",
   "execution_count": 9,
   "id": "8c39791a-b6c4-463c-a6d0-ff055e8a924f",
   "metadata": {},
   "outputs": [],
   "source": [
    "pcd = o3d.geometry.PointCloud()\n",
    "pcd.points = o3d.utility.Vector3dVector(transformed_points)\n",
    "o3d.visualization.draw_geometries([pcd])"
   ]
  }
 ],
 "metadata": {
  "kernelspec": {
   "display_name": "Python 3 (ipykernel)",
   "language": "python",
   "name": "python3"
  },
  "language_info": {
   "codemirror_mode": {
    "name": "ipython",
    "version": 3
   },
   "file_extension": ".py",
   "mimetype": "text/x-python",
   "name": "python",
   "nbconvert_exporter": "python",
   "pygments_lexer": "ipython3",
   "version": "3.8.18"
  }
 },
 "nbformat": 4,
 "nbformat_minor": 5
}
